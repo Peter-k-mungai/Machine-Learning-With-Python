{
 "cells": [
  {
   "cell_type": "markdown",
   "metadata": {},
   "source": [
    "# Retail Sales EDA and Spending Predictions with Python\n",
    "This project focuses on analyzing retail sales data in Istanbul. It involves data preparation and cleaning, exploratory data analysis (EDA), and building predictive models to forecast customer spending based on various variables. Furthermore, the project explores the correlation between total revenue and currency rates.\n",
    "\n",
    "## About Dataset\n",
    "Welcome to the shopping world of Istanbul! Our dataset contains shopping information from 10 different shopping malls between 2021 and 2023. We have gathered data from various age groups and genders to provide a comprehensive view of shopping habits in Istanbul. The dataset includes essential information such as invoice numbers, customer IDs, age, gender, payment methods, product categories, quantity, price, order dates, and shopping mall locations. We hope that this dataset will serve as a valuable resource for researchers, data analysts, and machine learning enthusiasts who want to gain insights into shopping trends and patterns in Istanbul. Explore the dataset and discover the fascinating world of Istanbul shopping!\n",
    "\n",
    "* invoice_no: Invoice number. Nominal. A combination of the letter 'I' and a 6-digit integer uniquely assigned to each operation.\n",
    "* customer_id: Customer number. Nominal. A combination of the letter 'C' and a 6-digit integer uniquely assigned to each operation.\n",
    "* gender: String variable of the customer's gender.\n",
    "* age: Positive Integer variable of the customers age.\n",
    "* category: String variable of the category of the purchased product.\n",
    "* quantity: The quantities of each product (item) per transaction. Numeric.\n",
    "* price: Unit price. Numeric. Product price per unit in Turkish Liras (TL).\n",
    "* payment_method: String variable of the payment method (cash, credit card or debit card) used for the transaction.\n",
    "* invoice_date: Invoice date. The day when a transaction was generated.\n",
    "* shopping_mall: String variable of the name of the shopping mall where the transaction was made.\n"
   ]
  },
  {
   "cell_type": "code",
   "execution_count": 2,
   "metadata": {
    "execution": {
     "iopub.execute_input": "2023-09-02T09:20:10.39846Z",
     "iopub.status.busy": "2023-09-02T09:20:10.397836Z",
     "iopub.status.idle": "2023-09-02T09:20:12.094489Z",
     "shell.execute_reply": "2023-09-02T09:20:12.092927Z",
     "shell.execute_reply.started": "2023-09-02T09:20:10.39838Z"
    }
   },
   "outputs": [
    {
     "data": {
      "text/plain": [
       "['.ipynb_checkpoints',\n",
       " 'customer_shopping_data.csv',\n",
       " 'exemplar_retail-sales-eda-and-spending-predictions.ipynb',\n",
       " 'Retail_Sales_class.ipynb']"
      ]
     },
     "execution_count": 2,
     "metadata": {},
     "output_type": "execute_result"
    }
   ],
   "source": [
    "import numpy as np \n",
    "import pandas as pd \n",
    "import matplotlib.pyplot as plt\n",
    "import seaborn as sns\n",
    "import squarify \n",
    "import warnings\n",
    "import datetime as dt\n",
    "import os\n",
    "os.listdir()\n"
   ]
  },
  {
   "cell_type": "markdown",
   "metadata": {},
   "source": [
    "# Data preparation and cleaning "
   ]
  },
  {
   "cell_type": "code",
   "execution_count": 3,
   "metadata": {
    "execution": {
     "iopub.execute_input": "2023-09-02T09:20:12.101856Z",
     "iopub.status.busy": "2023-09-02T09:20:12.101408Z",
     "iopub.status.idle": "2023-09-02T09:20:12.535283Z",
     "shell.execute_reply": "2023-09-02T09:20:12.533927Z",
     "shell.execute_reply.started": "2023-09-02T09:20:12.101816Z"
    }
   },
   "outputs": [
    {
     "name": "stdout",
     "output_type": "stream",
     "text": [
      "(99457, 10)\n"
     ]
    }
   ],
   "source": [
    "#loading our data\n",
    "\n",
    "df = pd.read_csv('customer_shopping_data.csv')\n",
    "\n",
    "print(df.shape) #checking the rows and columns"
   ]
  },
  {
   "cell_type": "code",
   "execution_count": 4,
   "metadata": {},
   "outputs": [
    {
     "data": {
      "text/html": [
       "<div>\n",
       "<style scoped>\n",
       "    .dataframe tbody tr th:only-of-type {\n",
       "        vertical-align: middle;\n",
       "    }\n",
       "\n",
       "    .dataframe tbody tr th {\n",
       "        vertical-align: top;\n",
       "    }\n",
       "\n",
       "    .dataframe thead th {\n",
       "        text-align: right;\n",
       "    }\n",
       "</style>\n",
       "<table border=\"1\" class=\"dataframe\">\n",
       "  <thead>\n",
       "    <tr style=\"text-align: right;\">\n",
       "      <th></th>\n",
       "      <th>invoice_no</th>\n",
       "      <th>customer_id</th>\n",
       "      <th>gender</th>\n",
       "      <th>age</th>\n",
       "      <th>category</th>\n",
       "      <th>quantity</th>\n",
       "      <th>price</th>\n",
       "      <th>payment_method</th>\n",
       "      <th>invoice_date</th>\n",
       "      <th>shopping_mall</th>\n",
       "    </tr>\n",
       "  </thead>\n",
       "  <tbody>\n",
       "    <tr>\n",
       "      <th>0</th>\n",
       "      <td>I138884</td>\n",
       "      <td>C241288</td>\n",
       "      <td>Female</td>\n",
       "      <td>28</td>\n",
       "      <td>Clothing</td>\n",
       "      <td>5</td>\n",
       "      <td>1500.40</td>\n",
       "      <td>Credit Card</td>\n",
       "      <td>5/8/2022</td>\n",
       "      <td>Kanyon</td>\n",
       "    </tr>\n",
       "    <tr>\n",
       "      <th>1</th>\n",
       "      <td>I317333</td>\n",
       "      <td>C111565</td>\n",
       "      <td>Male</td>\n",
       "      <td>21</td>\n",
       "      <td>Shoes</td>\n",
       "      <td>3</td>\n",
       "      <td>1800.51</td>\n",
       "      <td>Debit Card</td>\n",
       "      <td>12/12/2021</td>\n",
       "      <td>Forum Istanbul</td>\n",
       "    </tr>\n",
       "    <tr>\n",
       "      <th>2</th>\n",
       "      <td>I127801</td>\n",
       "      <td>C266599</td>\n",
       "      <td>Male</td>\n",
       "      <td>20</td>\n",
       "      <td>Clothing</td>\n",
       "      <td>1</td>\n",
       "      <td>300.08</td>\n",
       "      <td>Cash</td>\n",
       "      <td>9/11/2021</td>\n",
       "      <td>Metrocity</td>\n",
       "    </tr>\n",
       "    <tr>\n",
       "      <th>3</th>\n",
       "      <td>I173702</td>\n",
       "      <td>C988172</td>\n",
       "      <td>Female</td>\n",
       "      <td>66</td>\n",
       "      <td>Shoes</td>\n",
       "      <td>5</td>\n",
       "      <td>3000.85</td>\n",
       "      <td>Credit Card</td>\n",
       "      <td>16/05/2021</td>\n",
       "      <td>Metropol AVM</td>\n",
       "    </tr>\n",
       "    <tr>\n",
       "      <th>4</th>\n",
       "      <td>I337046</td>\n",
       "      <td>C189076</td>\n",
       "      <td>Female</td>\n",
       "      <td>53</td>\n",
       "      <td>Books</td>\n",
       "      <td>4</td>\n",
       "      <td>60.60</td>\n",
       "      <td>Cash</td>\n",
       "      <td>24/10/2021</td>\n",
       "      <td>Kanyon</td>\n",
       "    </tr>\n",
       "  </tbody>\n",
       "</table>\n",
       "</div>"
      ],
      "text/plain": [
       "  invoice_no customer_id  gender  age  category  quantity    price  \\\n",
       "0    I138884     C241288  Female   28  Clothing         5  1500.40   \n",
       "1    I317333     C111565    Male   21     Shoes         3  1800.51   \n",
       "2    I127801     C266599    Male   20  Clothing         1   300.08   \n",
       "3    I173702     C988172  Female   66     Shoes         5  3000.85   \n",
       "4    I337046     C189076  Female   53     Books         4    60.60   \n",
       "\n",
       "  payment_method invoice_date   shopping_mall  \n",
       "0    Credit Card     5/8/2022          Kanyon  \n",
       "1     Debit Card   12/12/2021  Forum Istanbul  \n",
       "2           Cash    9/11/2021       Metrocity  \n",
       "3    Credit Card   16/05/2021    Metropol AVM  \n",
       "4           Cash   24/10/2021          Kanyon  "
      ]
     },
     "execution_count": 4,
     "metadata": {},
     "output_type": "execute_result"
    }
   ],
   "source": [
    "#get a preview of the data\n",
    "df.head()"
   ]
  },
  {
   "cell_type": "code",
   "execution_count": 5,
   "metadata": {
    "execution": {
     "iopub.execute_input": "2023-09-02T09:20:12.537919Z",
     "iopub.status.busy": "2023-09-02T09:20:12.536911Z",
     "iopub.status.idle": "2023-09-02T09:20:12.650795Z",
     "shell.execute_reply": "2023-09-02T09:20:12.648817Z",
     "shell.execute_reply.started": "2023-09-02T09:20:12.537877Z"
    }
   },
   "outputs": [
    {
     "name": "stdout",
     "output_type": "stream",
     "text": [
      "<class 'pandas.core.frame.DataFrame'>\n",
      "RangeIndex: 99457 entries, 0 to 99456\n",
      "Data columns (total 10 columns):\n",
      " #   Column          Non-Null Count  Dtype  \n",
      "---  ------          --------------  -----  \n",
      " 0   invoice_no      99457 non-null  object \n",
      " 1   customer_id     99457 non-null  object \n",
      " 2   gender          99457 non-null  object \n",
      " 3   age             99457 non-null  int64  \n",
      " 4   category        99457 non-null  object \n",
      " 5   quantity        99457 non-null  int64  \n",
      " 6   price           99457 non-null  float64\n",
      " 7   payment_method  99457 non-null  object \n",
      " 8   invoice_date    99457 non-null  object \n",
      " 9   shopping_mall   99457 non-null  object \n",
      "dtypes: float64(1), int64(2), object(7)\n",
      "memory usage: 7.6+ MB\n"
     ]
    }
   ],
   "source": [
    "#Check information about columns, number of null entries and datatypes\n",
    "df.info()"
   ]
  },
  {
   "cell_type": "code",
   "execution_count": 6,
   "metadata": {
    "execution": {
     "iopub.execute_input": "2023-09-02T09:20:12.653994Z",
     "iopub.status.busy": "2023-09-02T09:20:12.652798Z",
     "iopub.status.idle": "2023-09-02T09:20:18.1611Z",
     "shell.execute_reply": "2023-09-02T09:20:18.159725Z",
     "shell.execute_reply.started": "2023-09-02T09:20:12.653943Z"
    }
   },
   "outputs": [
    {
     "data": {
      "text/html": [
       "<div>\n",
       "<style scoped>\n",
       "    .dataframe tbody tr th:only-of-type {\n",
       "        vertical-align: middle;\n",
       "    }\n",
       "\n",
       "    .dataframe tbody tr th {\n",
       "        vertical-align: top;\n",
       "    }\n",
       "\n",
       "    .dataframe thead th {\n",
       "        text-align: right;\n",
       "    }\n",
       "</style>\n",
       "<table border=\"1\" class=\"dataframe\">\n",
       "  <thead>\n",
       "    <tr style=\"text-align: right;\">\n",
       "      <th></th>\n",
       "      <th>invoice_no</th>\n",
       "      <th>customer_id</th>\n",
       "      <th>gender</th>\n",
       "      <th>age</th>\n",
       "      <th>category</th>\n",
       "      <th>quantity</th>\n",
       "      <th>price</th>\n",
       "      <th>payment_method</th>\n",
       "      <th>invoice_date</th>\n",
       "      <th>shopping_mall</th>\n",
       "      <th>year</th>\n",
       "      <th>month</th>\n",
       "    </tr>\n",
       "  </thead>\n",
       "  <tbody>\n",
       "    <tr>\n",
       "      <th>0</th>\n",
       "      <td>I138884</td>\n",
       "      <td>C241288</td>\n",
       "      <td>Female</td>\n",
       "      <td>28</td>\n",
       "      <td>Clothing</td>\n",
       "      <td>5</td>\n",
       "      <td>1500.40</td>\n",
       "      <td>Credit Card</td>\n",
       "      <td>2022-08-05</td>\n",
       "      <td>Kanyon</td>\n",
       "      <td>2022</td>\n",
       "      <td>08</td>\n",
       "    </tr>\n",
       "    <tr>\n",
       "      <th>1</th>\n",
       "      <td>I317333</td>\n",
       "      <td>C111565</td>\n",
       "      <td>Male</td>\n",
       "      <td>21</td>\n",
       "      <td>Shoes</td>\n",
       "      <td>3</td>\n",
       "      <td>1800.51</td>\n",
       "      <td>Debit Card</td>\n",
       "      <td>2021-12-12</td>\n",
       "      <td>Forum Istanbul</td>\n",
       "      <td>2021</td>\n",
       "      <td>12</td>\n",
       "    </tr>\n",
       "    <tr>\n",
       "      <th>2</th>\n",
       "      <td>I127801</td>\n",
       "      <td>C266599</td>\n",
       "      <td>Male</td>\n",
       "      <td>20</td>\n",
       "      <td>Clothing</td>\n",
       "      <td>1</td>\n",
       "      <td>300.08</td>\n",
       "      <td>Cash</td>\n",
       "      <td>2021-11-09</td>\n",
       "      <td>Metrocity</td>\n",
       "      <td>2021</td>\n",
       "      <td>11</td>\n",
       "    </tr>\n",
       "    <tr>\n",
       "      <th>3</th>\n",
       "      <td>I173702</td>\n",
       "      <td>C988172</td>\n",
       "      <td>Female</td>\n",
       "      <td>66</td>\n",
       "      <td>Shoes</td>\n",
       "      <td>5</td>\n",
       "      <td>3000.85</td>\n",
       "      <td>Credit Card</td>\n",
       "      <td>2021-05-16</td>\n",
       "      <td>Metropol AVM</td>\n",
       "      <td>2021</td>\n",
       "      <td>05</td>\n",
       "    </tr>\n",
       "    <tr>\n",
       "      <th>4</th>\n",
       "      <td>I337046</td>\n",
       "      <td>C189076</td>\n",
       "      <td>Female</td>\n",
       "      <td>53</td>\n",
       "      <td>Books</td>\n",
       "      <td>4</td>\n",
       "      <td>60.60</td>\n",
       "      <td>Cash</td>\n",
       "      <td>2021-10-24</td>\n",
       "      <td>Kanyon</td>\n",
       "      <td>2021</td>\n",
       "      <td>10</td>\n",
       "    </tr>\n",
       "  </tbody>\n",
       "</table>\n",
       "</div>"
      ],
      "text/plain": [
       "  invoice_no customer_id  gender  age  category  quantity    price  \\\n",
       "0    I138884     C241288  Female   28  Clothing         5  1500.40   \n",
       "1    I317333     C111565    Male   21     Shoes         3  1800.51   \n",
       "2    I127801     C266599    Male   20  Clothing         1   300.08   \n",
       "3    I173702     C988172  Female   66     Shoes         5  3000.85   \n",
       "4    I337046     C189076  Female   53     Books         4    60.60   \n",
       "\n",
       "  payment_method invoice_date   shopping_mall  year month  \n",
       "0    Credit Card   2022-08-05          Kanyon  2022    08  \n",
       "1     Debit Card   2021-12-12  Forum Istanbul  2021    12  \n",
       "2           Cash   2021-11-09       Metrocity  2021    11  \n",
       "3    Credit Card   2021-05-16    Metropol AVM  2021    05  \n",
       "4           Cash   2021-10-24          Kanyon  2021    10  "
      ]
     },
     "execution_count": 6,
     "metadata": {},
     "output_type": "execute_result"
    }
   ],
   "source": [
    "#Invoice date has wrong data type, we will fix it\n",
    "df['invoice_date'] = pd.to_datetime(df['invoice_date'], dayfirst=True)\n",
    "\n",
    "#Also, we create new columns for year and month that can be useful for further analysis\n",
    "df['year'] = df['invoice_date'].dt.strftime(\"%Y\")\n",
    "df['month'] = df['invoice_date'].dt.strftime(\"%m\")\n",
    "\n",
    "df.head()"
   ]
  },
  {
   "cell_type": "code",
   "execution_count": 7,
   "metadata": {
    "execution": {
     "iopub.execute_input": "2023-09-02T09:20:18.165233Z",
     "iopub.status.busy": "2023-09-02T09:20:18.164704Z",
     "iopub.status.idle": "2023-09-02T09:20:18.248825Z",
     "shell.execute_reply": "2023-09-02T09:20:18.247112Z",
     "shell.execute_reply.started": "2023-09-02T09:20:18.165188Z"
    }
   },
   "outputs": [
    {
     "data": {
      "text/html": [
       "<div>\n",
       "<style scoped>\n",
       "    .dataframe tbody tr th:only-of-type {\n",
       "        vertical-align: middle;\n",
       "    }\n",
       "\n",
       "    .dataframe tbody tr th {\n",
       "        vertical-align: top;\n",
       "    }\n",
       "\n",
       "    .dataframe thead th {\n",
       "        text-align: right;\n",
       "    }\n",
       "</style>\n",
       "<table border=\"1\" class=\"dataframe\">\n",
       "  <thead>\n",
       "    <tr style=\"text-align: right;\">\n",
       "      <th></th>\n",
       "      <th>age</th>\n",
       "      <th>quantity</th>\n",
       "      <th>price</th>\n",
       "    </tr>\n",
       "  </thead>\n",
       "  <tbody>\n",
       "    <tr>\n",
       "      <th>count</th>\n",
       "      <td>99457.000000</td>\n",
       "      <td>99457.000000</td>\n",
       "      <td>99457.000000</td>\n",
       "    </tr>\n",
       "    <tr>\n",
       "      <th>mean</th>\n",
       "      <td>43.427089</td>\n",
       "      <td>3.003429</td>\n",
       "      <td>689.256321</td>\n",
       "    </tr>\n",
       "    <tr>\n",
       "      <th>std</th>\n",
       "      <td>14.990054</td>\n",
       "      <td>1.413025</td>\n",
       "      <td>941.184567</td>\n",
       "    </tr>\n",
       "    <tr>\n",
       "      <th>min</th>\n",
       "      <td>18.000000</td>\n",
       "      <td>1.000000</td>\n",
       "      <td>5.230000</td>\n",
       "    </tr>\n",
       "    <tr>\n",
       "      <th>25%</th>\n",
       "      <td>30.000000</td>\n",
       "      <td>2.000000</td>\n",
       "      <td>45.450000</td>\n",
       "    </tr>\n",
       "    <tr>\n",
       "      <th>50%</th>\n",
       "      <td>43.000000</td>\n",
       "      <td>3.000000</td>\n",
       "      <td>203.300000</td>\n",
       "    </tr>\n",
       "    <tr>\n",
       "      <th>75%</th>\n",
       "      <td>56.000000</td>\n",
       "      <td>4.000000</td>\n",
       "      <td>1200.320000</td>\n",
       "    </tr>\n",
       "    <tr>\n",
       "      <th>max</th>\n",
       "      <td>69.000000</td>\n",
       "      <td>5.000000</td>\n",
       "      <td>5250.000000</td>\n",
       "    </tr>\n",
       "  </tbody>\n",
       "</table>\n",
       "</div>"
      ],
      "text/plain": [
       "                age      quantity         price\n",
       "count  99457.000000  99457.000000  99457.000000\n",
       "mean      43.427089      3.003429    689.256321\n",
       "std       14.990054      1.413025    941.184567\n",
       "min       18.000000      1.000000      5.230000\n",
       "25%       30.000000      2.000000     45.450000\n",
       "50%       43.000000      3.000000    203.300000\n",
       "75%       56.000000      4.000000   1200.320000\n",
       "max       69.000000      5.000000   5250.000000"
      ]
     },
     "execution_count": 7,
     "metadata": {},
     "output_type": "execute_result"
    }
   ],
   "source": [
    "# Get descriptive information about dataset\n",
    "df.describe()"
   ]
  },
  {
   "cell_type": "code",
   "execution_count": 8,
   "metadata": {
    "execution": {
     "iopub.execute_input": "2023-09-02T09:20:18.251939Z",
     "iopub.status.busy": "2023-09-02T09:20:18.250739Z",
     "iopub.status.idle": "2023-09-02T09:20:18.410919Z",
     "shell.execute_reply": "2023-09-02T09:20:18.409161Z",
     "shell.execute_reply.started": "2023-09-02T09:20:18.251874Z"
    }
   },
   "outputs": [
    {
     "data": {
      "text/plain": [
       "0"
      ]
     },
     "execution_count": 8,
     "metadata": {},
     "output_type": "execute_result"
    }
   ],
   "source": [
    "# Are there any duplicated rows?\n",
    "df.duplicated().sum()"
   ]
  },
  {
   "cell_type": "code",
   "execution_count": 9,
   "metadata": {
    "execution": {
     "iopub.execute_input": "2023-09-02T09:20:18.413965Z",
     "iopub.status.busy": "2023-09-02T09:20:18.41312Z",
     "iopub.status.idle": "2023-09-02T09:20:18.440125Z",
     "shell.execute_reply": "2023-09-02T09:20:18.438635Z",
     "shell.execute_reply.started": "2023-09-02T09:20:18.413916Z"
    }
   },
   "outputs": [
    {
     "data": {
      "text/html": [
       "<div>\n",
       "<style scoped>\n",
       "    .dataframe tbody tr th:only-of-type {\n",
       "        vertical-align: middle;\n",
       "    }\n",
       "\n",
       "    .dataframe tbody tr th {\n",
       "        vertical-align: top;\n",
       "    }\n",
       "\n",
       "    .dataframe thead th {\n",
       "        text-align: right;\n",
       "    }\n",
       "</style>\n",
       "<table border=\"1\" class=\"dataframe\">\n",
       "  <thead>\n",
       "    <tr style=\"text-align: right;\">\n",
       "      <th></th>\n",
       "      <th>invoice_no</th>\n",
       "      <th>customer_id</th>\n",
       "      <th>gender</th>\n",
       "      <th>age</th>\n",
       "      <th>category</th>\n",
       "      <th>quantity</th>\n",
       "      <th>price</th>\n",
       "      <th>payment_method</th>\n",
       "      <th>invoice_date</th>\n",
       "      <th>shopping_mall</th>\n",
       "      <th>year</th>\n",
       "      <th>month</th>\n",
       "      <th>total</th>\n",
       "    </tr>\n",
       "  </thead>\n",
       "  <tbody>\n",
       "    <tr>\n",
       "      <th>0</th>\n",
       "      <td>I138884</td>\n",
       "      <td>C241288</td>\n",
       "      <td>Female</td>\n",
       "      <td>28</td>\n",
       "      <td>Clothing</td>\n",
       "      <td>5</td>\n",
       "      <td>1500.40</td>\n",
       "      <td>Credit Card</td>\n",
       "      <td>2022-08-05</td>\n",
       "      <td>Kanyon</td>\n",
       "      <td>2022</td>\n",
       "      <td>08</td>\n",
       "      <td>7502.00</td>\n",
       "    </tr>\n",
       "    <tr>\n",
       "      <th>1</th>\n",
       "      <td>I317333</td>\n",
       "      <td>C111565</td>\n",
       "      <td>Male</td>\n",
       "      <td>21</td>\n",
       "      <td>Shoes</td>\n",
       "      <td>3</td>\n",
       "      <td>1800.51</td>\n",
       "      <td>Debit Card</td>\n",
       "      <td>2021-12-12</td>\n",
       "      <td>Forum Istanbul</td>\n",
       "      <td>2021</td>\n",
       "      <td>12</td>\n",
       "      <td>5401.53</td>\n",
       "    </tr>\n",
       "    <tr>\n",
       "      <th>2</th>\n",
       "      <td>I127801</td>\n",
       "      <td>C266599</td>\n",
       "      <td>Male</td>\n",
       "      <td>20</td>\n",
       "      <td>Clothing</td>\n",
       "      <td>1</td>\n",
       "      <td>300.08</td>\n",
       "      <td>Cash</td>\n",
       "      <td>2021-11-09</td>\n",
       "      <td>Metrocity</td>\n",
       "      <td>2021</td>\n",
       "      <td>11</td>\n",
       "      <td>300.08</td>\n",
       "    </tr>\n",
       "    <tr>\n",
       "      <th>3</th>\n",
       "      <td>I173702</td>\n",
       "      <td>C988172</td>\n",
       "      <td>Female</td>\n",
       "      <td>66</td>\n",
       "      <td>Shoes</td>\n",
       "      <td>5</td>\n",
       "      <td>3000.85</td>\n",
       "      <td>Credit Card</td>\n",
       "      <td>2021-05-16</td>\n",
       "      <td>Metropol AVM</td>\n",
       "      <td>2021</td>\n",
       "      <td>05</td>\n",
       "      <td>15004.25</td>\n",
       "    </tr>\n",
       "    <tr>\n",
       "      <th>4</th>\n",
       "      <td>I337046</td>\n",
       "      <td>C189076</td>\n",
       "      <td>Female</td>\n",
       "      <td>53</td>\n",
       "      <td>Books</td>\n",
       "      <td>4</td>\n",
       "      <td>60.60</td>\n",
       "      <td>Cash</td>\n",
       "      <td>2021-10-24</td>\n",
       "      <td>Kanyon</td>\n",
       "      <td>2021</td>\n",
       "      <td>10</td>\n",
       "      <td>242.40</td>\n",
       "    </tr>\n",
       "  </tbody>\n",
       "</table>\n",
       "</div>"
      ],
      "text/plain": [
       "  invoice_no customer_id  gender  age  category  quantity    price  \\\n",
       "0    I138884     C241288  Female   28  Clothing         5  1500.40   \n",
       "1    I317333     C111565    Male   21     Shoes         3  1800.51   \n",
       "2    I127801     C266599    Male   20  Clothing         1   300.08   \n",
       "3    I173702     C988172  Female   66     Shoes         5  3000.85   \n",
       "4    I337046     C189076  Female   53     Books         4    60.60   \n",
       "\n",
       "  payment_method invoice_date   shopping_mall  year month     total  \n",
       "0    Credit Card   2022-08-05          Kanyon  2022    08   7502.00  \n",
       "1     Debit Card   2021-12-12  Forum Istanbul  2021    12   5401.53  \n",
       "2           Cash   2021-11-09       Metrocity  2021    11    300.08  \n",
       "3    Credit Card   2021-05-16    Metropol AVM  2021    05  15004.25  \n",
       "4           Cash   2021-10-24          Kanyon  2021    10    242.40  "
      ]
     },
     "execution_count": 9,
     "metadata": {},
     "output_type": "execute_result"
    }
   ],
   "source": [
    "# Add new column total money spent, which will be useful later\n",
    "df['total'] = df['price'] * df['quantity']\n",
    "df.head()"
   ]
  },
  {
   "cell_type": "code",
   "execution_count": 10,
   "metadata": {
    "execution": {
     "iopub.execute_input": "2023-09-02T09:20:18.442154Z",
     "iopub.status.busy": "2023-09-02T09:20:18.441775Z",
     "iopub.status.idle": "2023-09-02T09:20:18.482426Z",
     "shell.execute_reply": "2023-09-02T09:20:18.481305Z",
     "shell.execute_reply.started": "2023-09-02T09:20:18.442118Z"
    }
   },
   "outputs": [
    {
     "data": {
      "text/html": [
       "<div>\n",
       "<style scoped>\n",
       "    .dataframe tbody tr th:only-of-type {\n",
       "        vertical-align: middle;\n",
       "    }\n",
       "\n",
       "    .dataframe tbody tr th {\n",
       "        vertical-align: top;\n",
       "    }\n",
       "\n",
       "    .dataframe thead th {\n",
       "        text-align: right;\n",
       "    }\n",
       "</style>\n",
       "<table border=\"1\" class=\"dataframe\">\n",
       "  <thead>\n",
       "    <tr style=\"text-align: right;\">\n",
       "      <th></th>\n",
       "      <th>invoice_no</th>\n",
       "      <th>customer_id</th>\n",
       "      <th>gender</th>\n",
       "      <th>age</th>\n",
       "      <th>category</th>\n",
       "      <th>quantity</th>\n",
       "      <th>price</th>\n",
       "      <th>payment_method</th>\n",
       "      <th>invoice_date</th>\n",
       "      <th>shopping_mall</th>\n",
       "      <th>year</th>\n",
       "      <th>month</th>\n",
       "      <th>total</th>\n",
       "      <th>age_group</th>\n",
       "    </tr>\n",
       "  </thead>\n",
       "  <tbody>\n",
       "    <tr>\n",
       "      <th>0</th>\n",
       "      <td>I138884</td>\n",
       "      <td>C241288</td>\n",
       "      <td>Female</td>\n",
       "      <td>28</td>\n",
       "      <td>Clothing</td>\n",
       "      <td>5</td>\n",
       "      <td>1500.40</td>\n",
       "      <td>Credit Card</td>\n",
       "      <td>2022-08-05</td>\n",
       "      <td>Kanyon</td>\n",
       "      <td>2022</td>\n",
       "      <td>08</td>\n",
       "      <td>7502.00</td>\n",
       "      <td>25-34</td>\n",
       "    </tr>\n",
       "    <tr>\n",
       "      <th>1</th>\n",
       "      <td>I317333</td>\n",
       "      <td>C111565</td>\n",
       "      <td>Male</td>\n",
       "      <td>21</td>\n",
       "      <td>Shoes</td>\n",
       "      <td>3</td>\n",
       "      <td>1800.51</td>\n",
       "      <td>Debit Card</td>\n",
       "      <td>2021-12-12</td>\n",
       "      <td>Forum Istanbul</td>\n",
       "      <td>2021</td>\n",
       "      <td>12</td>\n",
       "      <td>5401.53</td>\n",
       "      <td>18-24</td>\n",
       "    </tr>\n",
       "    <tr>\n",
       "      <th>2</th>\n",
       "      <td>I127801</td>\n",
       "      <td>C266599</td>\n",
       "      <td>Male</td>\n",
       "      <td>20</td>\n",
       "      <td>Clothing</td>\n",
       "      <td>1</td>\n",
       "      <td>300.08</td>\n",
       "      <td>Cash</td>\n",
       "      <td>2021-11-09</td>\n",
       "      <td>Metrocity</td>\n",
       "      <td>2021</td>\n",
       "      <td>11</td>\n",
       "      <td>300.08</td>\n",
       "      <td>18-24</td>\n",
       "    </tr>\n",
       "    <tr>\n",
       "      <th>3</th>\n",
       "      <td>I173702</td>\n",
       "      <td>C988172</td>\n",
       "      <td>Female</td>\n",
       "      <td>66</td>\n",
       "      <td>Shoes</td>\n",
       "      <td>5</td>\n",
       "      <td>3000.85</td>\n",
       "      <td>Credit Card</td>\n",
       "      <td>2021-05-16</td>\n",
       "      <td>Metropol AVM</td>\n",
       "      <td>2021</td>\n",
       "      <td>05</td>\n",
       "      <td>15004.25</td>\n",
       "      <td>65-70</td>\n",
       "    </tr>\n",
       "    <tr>\n",
       "      <th>4</th>\n",
       "      <td>I337046</td>\n",
       "      <td>C189076</td>\n",
       "      <td>Female</td>\n",
       "      <td>53</td>\n",
       "      <td>Books</td>\n",
       "      <td>4</td>\n",
       "      <td>60.60</td>\n",
       "      <td>Cash</td>\n",
       "      <td>2021-10-24</td>\n",
       "      <td>Kanyon</td>\n",
       "      <td>2021</td>\n",
       "      <td>10</td>\n",
       "      <td>242.40</td>\n",
       "      <td>45-54</td>\n",
       "    </tr>\n",
       "  </tbody>\n",
       "</table>\n",
       "</div>"
      ],
      "text/plain": [
       "  invoice_no customer_id  gender  age  category  quantity    price  \\\n",
       "0    I138884     C241288  Female   28  Clothing         5  1500.40   \n",
       "1    I317333     C111565    Male   21     Shoes         3  1800.51   \n",
       "2    I127801     C266599    Male   20  Clothing         1   300.08   \n",
       "3    I173702     C988172  Female   66     Shoes         5  3000.85   \n",
       "4    I337046     C189076  Female   53     Books         4    60.60   \n",
       "\n",
       "  payment_method invoice_date   shopping_mall  year month     total age_group  \n",
       "0    Credit Card   2022-08-05          Kanyon  2022    08   7502.00     25-34  \n",
       "1     Debit Card   2021-12-12  Forum Istanbul  2021    12   5401.53     18-24  \n",
       "2           Cash   2021-11-09       Metrocity  2021    11    300.08     18-24  \n",
       "3    Credit Card   2021-05-16    Metropol AVM  2021    05  15004.25     65-70  \n",
       "4           Cash   2021-10-24          Kanyon  2021    10    242.40     45-54  "
      ]
     },
     "execution_count": 10,
     "metadata": {},
     "output_type": "execute_result"
    }
   ],
   "source": [
    "# New column with age group\n",
    "age_groups = [18, 24, 34, 44, 54, 64, 70]\n",
    "labels = ['18-24','25-34','35-44','45-54','55-64','65-70']\n",
    "df['age_group'] = pd.cut(df['age'],bins=age_groups, labels =labels)\n",
    "age_cats = pd.CategoricalDtype(['18-24','25-34','35-44','45-54','55-64','65-70'], ordered=True)\n",
    "df['age_group'] = df['age_group'].astype(age_cats)\n",
    "df.head()\n",
    "\n",
    "#Seems like now our data has all necessary columns, correct datatypes, no duplicates or \n",
    "#missing entires. And ready for further analysis"
   ]
  },
  {
   "cell_type": "markdown",
   "metadata": {},
   "source": [
    "# Exploratory data analysis"
   ]
  },
  {
   "cell_type": "code",
   "execution_count": 11,
   "metadata": {},
   "outputs": [
    {
     "data": {
      "text/html": [
       "<div>\n",
       "<style scoped>\n",
       "    .dataframe tbody tr th:only-of-type {\n",
       "        vertical-align: middle;\n",
       "    }\n",
       "\n",
       "    .dataframe tbody tr th {\n",
       "        vertical-align: top;\n",
       "    }\n",
       "\n",
       "    .dataframe thead th {\n",
       "        text-align: right;\n",
       "    }\n",
       "</style>\n",
       "<table border=\"1\" class=\"dataframe\">\n",
       "  <thead>\n",
       "    <tr style=\"text-align: right;\">\n",
       "      <th></th>\n",
       "      <th>invoice_no</th>\n",
       "      <th>customer_id</th>\n",
       "      <th>gender</th>\n",
       "      <th>age</th>\n",
       "      <th>category</th>\n",
       "      <th>quantity</th>\n",
       "      <th>price</th>\n",
       "      <th>payment_method</th>\n",
       "      <th>invoice_date</th>\n",
       "      <th>shopping_mall</th>\n",
       "      <th>year</th>\n",
       "      <th>month</th>\n",
       "      <th>total</th>\n",
       "      <th>age_group</th>\n",
       "    </tr>\n",
       "  </thead>\n",
       "  <tbody>\n",
       "    <tr>\n",
       "      <th>0</th>\n",
       "      <td>I138884</td>\n",
       "      <td>C241288</td>\n",
       "      <td>Female</td>\n",
       "      <td>28</td>\n",
       "      <td>Clothing</td>\n",
       "      <td>5</td>\n",
       "      <td>1500.40</td>\n",
       "      <td>Credit Card</td>\n",
       "      <td>2022-08-05</td>\n",
       "      <td>Kanyon</td>\n",
       "      <td>2022</td>\n",
       "      <td>08</td>\n",
       "      <td>7502.00</td>\n",
       "      <td>25-34</td>\n",
       "    </tr>\n",
       "    <tr>\n",
       "      <th>1</th>\n",
       "      <td>I317333</td>\n",
       "      <td>C111565</td>\n",
       "      <td>Male</td>\n",
       "      <td>21</td>\n",
       "      <td>Shoes</td>\n",
       "      <td>3</td>\n",
       "      <td>1800.51</td>\n",
       "      <td>Debit Card</td>\n",
       "      <td>2021-12-12</td>\n",
       "      <td>Forum Istanbul</td>\n",
       "      <td>2021</td>\n",
       "      <td>12</td>\n",
       "      <td>5401.53</td>\n",
       "      <td>18-24</td>\n",
       "    </tr>\n",
       "    <tr>\n",
       "      <th>2</th>\n",
       "      <td>I127801</td>\n",
       "      <td>C266599</td>\n",
       "      <td>Male</td>\n",
       "      <td>20</td>\n",
       "      <td>Clothing</td>\n",
       "      <td>1</td>\n",
       "      <td>300.08</td>\n",
       "      <td>Cash</td>\n",
       "      <td>2021-11-09</td>\n",
       "      <td>Metrocity</td>\n",
       "      <td>2021</td>\n",
       "      <td>11</td>\n",
       "      <td>300.08</td>\n",
       "      <td>18-24</td>\n",
       "    </tr>\n",
       "  </tbody>\n",
       "</table>\n",
       "</div>"
      ],
      "text/plain": [
       "  invoice_no customer_id  gender  age  category  quantity    price  \\\n",
       "0    I138884     C241288  Female   28  Clothing         5  1500.40   \n",
       "1    I317333     C111565    Male   21     Shoes         3  1800.51   \n",
       "2    I127801     C266599    Male   20  Clothing         1   300.08   \n",
       "\n",
       "  payment_method invoice_date   shopping_mall  year month    total age_group  \n",
       "0    Credit Card   2022-08-05          Kanyon  2022    08  7502.00     25-34  \n",
       "1     Debit Card   2021-12-12  Forum Istanbul  2021    12  5401.53     18-24  \n",
       "2           Cash   2021-11-09       Metrocity  2021    11   300.08     18-24  "
      ]
     },
     "execution_count": 11,
     "metadata": {},
     "output_type": "execute_result"
    }
   ],
   "source": [
    "df.head(3)"
   ]
  },
  {
   "cell_type": "code",
   "execution_count": null,
   "metadata": {
    "execution": {
     "iopub.execute_input": "2023-09-02T09:20:18.484892Z",
     "iopub.status.busy": "2023-09-02T09:20:18.483705Z",
     "iopub.status.idle": "2023-09-02T09:20:18.870241Z",
     "shell.execute_reply": "2023-09-02T09:20:18.868513Z",
     "shell.execute_reply.started": "2023-09-02T09:20:18.484846Z"
    }
   },
   "outputs": [],
   "source": [
    "#First, investigate gender columns and see if we get some insights\n",
    "sns.countplot(data=df,x='gender').set(title='Gender and number of transactions')"
   ]
  },
  {
   "cell_type": "code",
   "execution_count": null,
   "metadata": {
    "execution": {
     "iopub.execute_input": "2023-09-02T09:20:18.872913Z",
     "iopub.status.busy": "2023-09-02T09:20:18.872024Z",
     "iopub.status.idle": "2023-09-02T09:20:19.300774Z",
     "shell.execute_reply": "2023-09-02T09:20:19.299052Z",
     "shell.execute_reply.started": "2023-09-02T09:20:18.872852Z"
    }
   },
   "outputs": [],
   "source": [
    "# Build histogram of age distribution per number of transactions\n",
    "sns.histplot(data=df, x='age_group').set(title = 'Age distribution and number of transactions')"
   ]
  },
  {
   "cell_type": "code",
   "execution_count": null,
   "metadata": {
    "execution": {
     "iopub.execute_input": "2023-09-02T09:20:19.303961Z",
     "iopub.status.busy": "2023-09-02T09:20:19.303309Z",
     "iopub.status.idle": "2023-09-02T09:20:19.604809Z",
     "shell.execute_reply": "2023-09-02T09:20:19.603237Z",
     "shell.execute_reply.started": "2023-09-02T09:20:19.303894Z"
    }
   },
   "outputs": [],
   "source": [
    "# Which age group spent more money?\n",
    "age_group_total = df.groupby('age_group')['total'].sum().reset_index()\n",
    "sns.barplot(data=age_group_total, x='age_group', y='total', palette = 'Paired').\\\n",
    "set(title='Age group and total spent')"
   ]
  },
  {
   "cell_type": "code",
   "execution_count": null,
   "metadata": {
    "execution": {
     "iopub.execute_input": "2023-09-02T09:20:19.606917Z",
     "iopub.status.busy": "2023-09-02T09:20:19.606394Z",
     "iopub.status.idle": "2023-09-02T09:20:19.942094Z",
     "shell.execute_reply": "2023-09-02T09:20:19.940743Z",
     "shell.execute_reply.started": "2023-09-02T09:20:19.606873Z"
    }
   },
   "outputs": [],
   "source": [
    "# Check age distribution among males and females\n",
    "sns.boxplot(data=df, x='gender', y='age', palette='Set2')\n",
    "plt.title('Age distribution for females and males customers')"
   ]
  },
  {
   "cell_type": "code",
   "execution_count": null,
   "metadata": {
    "execution": {
     "iopub.execute_input": "2023-09-02T09:20:19.944769Z",
     "iopub.status.busy": "2023-09-02T09:20:19.943822Z",
     "iopub.status.idle": "2023-09-02T09:20:20.306725Z",
     "shell.execute_reply": "2023-09-02T09:20:20.305023Z",
     "shell.execute_reply.started": "2023-09-02T09:20:19.94472Z"
    }
   },
   "outputs": [],
   "source": [
    "# Explore payment methods\n",
    "sns.countplot(x='payment_method', data=df).set(title='Payment method and number of transactions')"
   ]
  },
  {
   "cell_type": "code",
   "execution_count": null,
   "metadata": {
    "execution": {
     "iopub.execute_input": "2023-09-02T09:20:20.31443Z",
     "iopub.status.busy": "2023-09-02T09:20:20.313949Z",
     "iopub.status.idle": "2023-09-02T09:20:20.342102Z",
     "shell.execute_reply": "2023-09-02T09:20:20.340633Z",
     "shell.execute_reply.started": "2023-09-02T09:20:20.314384Z"
    }
   },
   "outputs": [],
   "source": [
    "# Most customers are paying by cash. But what about the amount of money spent and payment method?\n",
    "df_payment = pd.DataFrame(df.groupby('payment_method')['total'].sum())\n",
    "df_payment"
   ]
  },
  {
   "cell_type": "code",
   "execution_count": null,
   "metadata": {
    "execution": {
     "iopub.execute_input": "2023-09-02T09:20:20.344892Z",
     "iopub.status.busy": "2023-09-02T09:20:20.34378Z",
     "iopub.status.idle": "2023-09-02T09:20:20.678736Z",
     "shell.execute_reply": "2023-09-02T09:20:20.677179Z",
     "shell.execute_reply.started": "2023-09-02T09:20:20.344846Z"
    }
   },
   "outputs": [],
   "source": [
    "# Investigate which products price customers usually prefer\n",
    "df.price.hist()\n",
    "plt.title('Price distribution')"
   ]
  },
  {
   "cell_type": "code",
   "execution_count": null,
   "metadata": {
    "execution": {
     "iopub.execute_input": "2023-09-02T09:20:20.682199Z",
     "iopub.status.busy": "2023-09-02T09:20:20.681628Z",
     "iopub.status.idle": "2023-09-02T09:20:20.724582Z",
     "shell.execute_reply": "2023-09-02T09:20:20.723243Z",
     "shell.execute_reply.started": "2023-09-02T09:20:20.682142Z"
    }
   },
   "outputs": [],
   "source": [
    "# Discover popular categories\n",
    "df_category_count = df.groupby('category')['invoice_no'].count().reset_index()\n",
    "df_category_count.sort_values(by='invoice_no', ascending=False)"
   ]
  },
  {
   "cell_type": "code",
   "execution_count": null,
   "metadata": {
    "execution": {
     "iopub.execute_input": "2023-09-02T09:20:20.726628Z",
     "iopub.status.busy": "2023-09-02T09:20:20.72625Z",
     "iopub.status.idle": "2023-09-02T09:20:21.369923Z",
     "shell.execute_reply": "2023-09-02T09:20:21.368774Z",
     "shell.execute_reply.started": "2023-09-02T09:20:20.726591Z"
    }
   },
   "outputs": [],
   "source": [
    "# Visualize popular categories per number of transactions and total amount spent\n",
    "df_category_total = df.groupby('category')['total'].sum().reset_index()\n",
    "\n",
    "fig, (ax1, ax2) = plt.subplots(1,2, figsize=(20,10))\n",
    "sns.barplot(data=df_category_count, x='category', y='invoice_no', ax = ax1).set(title='Categories and number of transactions')\n",
    "sns.barplot(data=df_category_total, x='category', y = 'total', ax = ax2).set(title='Categories and total amount spent')\n",
    "ax1.tick_params('x', labelrotation=45)\n",
    "ax2.tick_params('x', labelrotation=45)"
   ]
  },
  {
   "cell_type": "code",
   "execution_count": null,
   "metadata": {
    "execution": {
     "iopub.execute_input": "2023-09-02T09:20:21.37261Z",
     "iopub.status.busy": "2023-09-02T09:20:21.371263Z",
     "iopub.status.idle": "2023-09-02T09:20:21.400232Z",
     "shell.execute_reply": "2023-09-02T09:20:21.398754Z",
     "shell.execute_reply.started": "2023-09-02T09:20:21.372521Z"
    }
   },
   "outputs": [],
   "source": [
    "# What is the average price per category?\n",
    "avg_price_category = pd.DataFrame(df.groupby('category')['price'].mean().sort_values(ascending=False))\n",
    "avg_price_category.columns = ['average_price']\n",
    "avg_price_category"
   ]
  },
  {
   "cell_type": "code",
   "execution_count": null,
   "metadata": {
    "execution": {
     "iopub.execute_input": "2023-09-02T09:20:21.402338Z",
     "iopub.status.busy": "2023-09-02T09:20:21.401741Z",
     "iopub.status.idle": "2023-09-02T09:20:21.499934Z",
     "shell.execute_reply": "2023-09-02T09:20:21.498821Z",
     "shell.execute_reply.started": "2023-09-02T09:20:21.40229Z"
    }
   },
   "outputs": [],
   "source": [
    "# Distribution number of transaction per age groups and gender\n",
    "pd.crosstab([df.age_group, df.gender], df.category, values=df.invoice_no, aggfunc=(['count']))"
   ]
  },
  {
   "cell_type": "code",
   "execution_count": null,
   "metadata": {
    "execution": {
     "iopub.execute_input": "2023-09-02T09:20:21.502223Z",
     "iopub.status.busy": "2023-09-02T09:20:21.501236Z",
     "iopub.status.idle": "2023-09-02T09:20:21.569197Z",
     "shell.execute_reply": "2023-09-02T09:20:21.567735Z",
     "shell.execute_reply.started": "2023-09-02T09:20:21.502176Z"
    }
   },
   "outputs": [],
   "source": [
    "# How much did each combination of gender and age group spent in total in different categories?\n",
    "pd.crosstab([df.age_group, df.gender], df.category, values=df.total, aggfunc=np.sum, normalize='columns').\\\n",
    "applymap(lambda x: \"{0:.0f}%\".format(100*x))"
   ]
  },
  {
   "cell_type": "code",
   "execution_count": null,
   "metadata": {
    "execution": {
     "iopub.execute_input": "2023-09-02T09:20:21.572417Z",
     "iopub.status.busy": "2023-09-02T09:20:21.571564Z",
     "iopub.status.idle": "2023-09-02T09:20:21.602049Z",
     "shell.execute_reply": "2023-09-02T09:20:21.600483Z",
     "shell.execute_reply.started": "2023-09-02T09:20:21.572355Z"
    }
   },
   "outputs": [],
   "source": [
    "# The most popular shopping malls by number of transactions\n",
    "pd.DataFrame(df['shopping_mall'].value_counts())\n"
   ]
  },
  {
   "cell_type": "code",
   "execution_count": null,
   "metadata": {
    "execution": {
     "iopub.execute_input": "2023-09-02T09:20:21.604651Z",
     "iopub.status.busy": "2023-09-02T09:20:21.604188Z",
     "iopub.status.idle": "2023-09-02T09:20:21.84397Z",
     "shell.execute_reply": "2023-09-02T09:20:21.842455Z",
     "shell.execute_reply.started": "2023-09-02T09:20:21.604608Z"
    }
   },
   "outputs": [],
   "source": [
    "# And which shopping mall has the biggest amount of money spent? Lets visualize it\n",
    "malls = df.groupby('shopping_mall')['total'].sum().reset_index().sort_values(by='total', ascending=False)\n",
    "plt.figure(figsize=(10,6))\n",
    "squarify.plot(sizes=malls['total'], label=malls['shopping_mall'], alpha=.8, color=sns.color_palette(\"magma\", \n",
    "                                     len(malls)), ec='black' )\n",
    "plt.title('Most popular shopping malls by amount of money spent')\n",
    "plt.axis('off')"
   ]
  },
  {
   "cell_type": "code",
   "execution_count": null,
   "metadata": {
    "execution": {
     "iopub.execute_input": "2023-09-02T09:20:21.846955Z",
     "iopub.status.busy": "2023-09-02T09:20:21.845712Z",
     "iopub.status.idle": "2023-09-02T09:20:22.202716Z",
     "shell.execute_reply": "2023-09-02T09:20:22.201679Z",
     "shell.execute_reply.started": "2023-09-02T09:20:21.846908Z"
    }
   },
   "outputs": [],
   "source": [
    "# Interesting to see how the total amount of money spent changed per year\n",
    "# But we will not include data from March 2023 since it is not full (only till the 8th of March available) \n",
    "year_month = df[df['invoice_date'] < '2023-03-01'].groupby(['year', 'month'])['total'].sum()\n",
    "year_month.plot(grid=True)\n",
    "plt.title('Total spent per month in 2021-2023', size=14)\n",
    "plt.tick_params('x', labelrotation=45)\n"
   ]
  },
  {
   "cell_type": "markdown",
   "metadata": {},
   "source": [
    "# Summary \n",
    "* After our analysis, we can say that females at the age of 35-44, 45-54 spent the most amount of money(compare to other ages and gender groups) in the shopping malls and also as per number of transactions (how often they come to the mall).\n",
    "* Customers prefer cheap products, in the 0-1000 TL range.\n",
    "* The most popular categories as per the number of transactions: Clothing, Cosmetics, Food and beverages. However, as per total spending: Clothing, Shoes and Technology. \n",
    "* The most popular shopping malls are Mall of Istanbul, Kanyon, and Metrocity. \n",
    "\n",
    "The total monthly sales of shopping malls in Istanbul were not stable during the last 3 years, however, we can see dropped down in 2023. \n",
    "So, as a suggestion, business owners can run social media campaigns (or any other form of advertisement) targeting females between the age of 35-54 for the categories Clothing, Shoes, and Technology. "
   ]
  },
  {
   "cell_type": "markdown",
   "metadata": {},
   "source": [
    "# Customers total spending prediction\n",
    "\n",
    "Next section we will do a customer spending prediction model that can be used for total revenue prediction in case business owners would run an advertisement campaign targeting certain customer profiles. "
   ]
  },
  {
   "cell_type": "code",
   "execution_count": null,
   "metadata": {
    "execution": {
     "iopub.execute_input": "2023-09-02T09:20:22.204948Z",
     "iopub.status.busy": "2023-09-02T09:20:22.204002Z",
     "iopub.status.idle": "2023-09-02T09:20:22.670767Z",
     "shell.execute_reply": "2023-09-02T09:20:22.669275Z",
     "shell.execute_reply.started": "2023-09-02T09:20:22.204902Z"
    }
   },
   "outputs": [],
   "source": [
    "from sklearn import linear_model\n",
    "from sklearn.linear_model import LinearRegression\n",
    "from sklearn.tree import DecisionTreeRegressor\n",
    "from sklearn.neural_network import MLPRegressor\n",
    "from sklearn.model_selection import train_test_split, cross_val_score\n",
    "from sklearn.metrics import r2_score, mean_squared_error, mean_absolute_error\n"
   ]
  },
  {
   "cell_type": "code",
   "execution_count": null,
   "metadata": {
    "execution": {
     "iopub.execute_input": "2023-09-02T09:20:22.673165Z",
     "iopub.status.busy": "2023-09-02T09:20:22.672627Z",
     "iopub.status.idle": "2023-09-02T09:20:22.73568Z",
     "shell.execute_reply": "2023-09-02T09:20:22.734075Z",
     "shell.execute_reply.started": "2023-09-02T09:20:22.673108Z"
    }
   },
   "outputs": [],
   "source": [
    "# Choose relevant columns for predictions\n",
    "df_model = df[['gender', 'age_group', 'category', 'price', 'total']]\n",
    "\n",
    "#Get dummy data\n",
    "df_dum = pd.get_dummies(df_model)\n",
    "df_dum.head()"
   ]
  },
  {
   "cell_type": "code",
   "execution_count": null,
   "metadata": {
    "execution": {
     "iopub.execute_input": "2023-09-02T09:20:22.737859Z",
     "iopub.status.busy": "2023-09-02T09:20:22.737389Z",
     "iopub.status.idle": "2023-09-02T09:20:22.76303Z",
     "shell.execute_reply": "2023-09-02T09:20:22.76161Z",
     "shell.execute_reply.started": "2023-09-02T09:20:22.737818Z"
    }
   },
   "outputs": [],
   "source": [
    "# Train test split\n",
    "X = df_dum.drop('total', axis =1)\n",
    "y = df_dum.total.values\n",
    "\n",
    "X_train, X_test, y_train, y_test = train_test_split(X, y, test_size=0.3)"
   ]
  },
  {
   "cell_type": "code",
   "execution_count": null,
   "metadata": {
    "execution": {
     "iopub.execute_input": "2023-09-02T09:20:22.76483Z",
     "iopub.status.busy": "2023-09-02T09:20:22.764409Z",
     "iopub.status.idle": "2023-09-02T09:20:22.837398Z",
     "shell.execute_reply": "2023-09-02T09:20:22.835426Z",
     "shell.execute_reply.started": "2023-09-02T09:20:22.76479Z"
    }
   },
   "outputs": [],
   "source": [
    "# Linear Regression\n",
    "lr = LinearRegression()\n",
    "lr.fit(X_train, y_train)\n",
    "lr_pred = lr.predict(X_test)\n",
    "\n",
    "lr_mae = mean_absolute_error(y_test, lr_pred)\n",
    "lr_mse = mean_squared_error(y_test, lr_pred)\n",
    "lr_r2 = r2_score(y_test, lr_pred)\n"
   ]
  },
  {
   "cell_type": "code",
   "execution_count": null,
   "metadata": {
    "execution": {
     "iopub.execute_input": "2023-09-02T09:20:22.840277Z",
     "iopub.status.busy": "2023-09-02T09:20:22.839403Z",
     "iopub.status.idle": "2023-09-02T09:20:22.959265Z",
     "shell.execute_reply": "2023-09-02T09:20:22.958134Z",
     "shell.execute_reply.started": "2023-09-02T09:20:22.84022Z"
    }
   },
   "outputs": [],
   "source": [
    "# Decission tree\n",
    "dt = DecisionTreeRegressor(max_depth=5,min_samples_split=6,max_leaf_nodes=10)\n",
    "dt.fit(X_train, y_train)\n",
    "dt_pred = dt.predict(X_test)\n",
    "\n",
    "dt_mae = mean_absolute_error(y_test, dt_pred)\n",
    "dt_mse = mean_squared_error(y_test, dt_pred)\n",
    "dt_r2 = r2_score(y_test, dt_pred)\n"
   ]
  },
  {
   "cell_type": "code",
   "execution_count": null,
   "metadata": {
    "execution": {
     "iopub.execute_input": "2023-09-02T09:20:22.961689Z",
     "iopub.status.busy": "2023-09-02T09:20:22.96083Z",
     "iopub.status.idle": "2023-09-02T09:23:36.793049Z",
     "shell.execute_reply": "2023-09-02T09:23:36.790354Z",
     "shell.execute_reply.started": "2023-09-02T09:20:22.961634Z"
    }
   },
   "outputs": [],
   "source": [
    "# Neural network\n",
    "nn = MLPRegressor(hidden_layer_sizes=(50, 50))\n",
    "nn.fit(X_train, y_train)\n",
    "nn_pred = nn.predict(X_test)\n",
    "\n",
    "nn_mae = mean_absolute_error(y_test, nn_pred)\n",
    "nn_mse = mean_squared_error(y_test, nn_pred)\n",
    "nn_r2 = r2_score(y_test, nn_pred)\n"
   ]
  },
  {
   "cell_type": "code",
   "execution_count": null,
   "metadata": {
    "execution": {
     "iopub.execute_input": "2023-09-02T09:23:36.810245Z",
     "iopub.status.busy": "2023-09-02T09:23:36.804748Z",
     "iopub.status.idle": "2023-09-02T09:23:36.832735Z",
     "shell.execute_reply": "2023-09-02T09:23:36.829888Z",
     "shell.execute_reply.started": "2023-09-02T09:23:36.810137Z"
    }
   },
   "outputs": [],
   "source": [
    "# Compare perfomence of the models\n",
    "print('Linear Regression - MAE:', lr_mae, 'MSE:', lr_mse, 'R-squared:', lr_r2)\n",
    "print('Decision Tree - MAE:', dt_mae, 'MSE:', dt_mse, 'R-squared:', dt_r2)\n",
    "print('Neural Network - MAE:', nn_mae, 'MSE:', nn_mse, 'R-squared:', nn_r2)"
   ]
  },
  {
   "cell_type": "code",
   "execution_count": null,
   "metadata": {
    "execution": {
     "iopub.execute_input": "2023-09-02T09:23:36.849905Z",
     "iopub.status.busy": "2023-09-02T09:23:36.842554Z",
     "iopub.status.idle": "2023-09-02T09:30:38.396111Z",
     "shell.execute_reply": "2023-09-02T09:30:38.394665Z",
     "shell.execute_reply.started": "2023-09-02T09:23:36.849792Z"
    }
   },
   "outputs": [],
   "source": [
    "# Cross validation\n",
    "print(np.mean(cross_val_score(lr,X_train,y_train, scoring = 'neg_mean_absolute_error', cv= 3)))\n",
    "print(np.mean(cross_val_score(dt,X_train,y_train, scoring = 'neg_mean_absolute_error', cv= 3)))\n",
    "print(np.mean(cross_val_score(nn,X_train,y_train, scoring = 'neg_mean_absolute_error', cv= 3)))"
   ]
  },
  {
   "cell_type": "markdown",
   "metadata": {},
   "source": [
    "The neural network has better performance than other models. So we can take it for further predictions of total revenue, using as an input targeted customers profile(gender, age group, category of purchases products).\n"
   ]
  },
  {
   "cell_type": "markdown",
   "metadata": {},
   "source": [
    "# Currency rate vs total revenue analysis and prediction\n",
    "Would be interesting to investigate how US dollar to Turkish Lira rate affects the total revenue. And build a predictive model based on that correlation hence it can help business owners with planning."
   ]
  },
  {
   "cell_type": "code",
   "execution_count": null,
   "metadata": {
    "execution": {
     "iopub.execute_input": "2023-09-02T09:30:38.398775Z",
     "iopub.status.busy": "2023-09-02T09:30:38.397881Z",
     "iopub.status.idle": "2023-09-02T09:30:38.458068Z",
     "shell.execute_reply": "2023-09-02T09:30:38.456095Z",
     "shell.execute_reply.started": "2023-09-02T09:30:38.398715Z"
    }
   },
   "outputs": [],
   "source": [
    "# Load dataset\n",
    "usd_try = pd.read_csv('/kaggle/input/usd-try-historical-data/USD_TRY Historical Data.csv', parse_dates=['Date'])\n",
    "\n",
    "# Choose relevant columns\n",
    "usd_try = usd_try[['Date', 'Price']]\n",
    "usd_try.columns = ['date', 'rate']\n",
    "usd_try.head()"
   ]
  },
  {
   "cell_type": "code",
   "execution_count": null,
   "metadata": {
    "execution": {
     "iopub.execute_input": "2023-09-02T09:30:38.476117Z",
     "iopub.status.busy": "2023-09-02T09:30:38.467271Z",
     "iopub.status.idle": "2023-09-02T09:30:54.335792Z",
     "shell.execute_reply": "2023-09-02T09:30:54.334314Z",
     "shell.execute_reply.started": "2023-09-02T09:30:38.476004Z"
    }
   },
   "outputs": [],
   "source": [
    "# Visualize rate change over time\n",
    "sns.lineplot(data=usd_try, x='date', y='rate')\n",
    "plt.title('USD to TRY overtime')\n",
    "plt.tick_params('x', labelrotation=45)"
   ]
  },
  {
   "cell_type": "code",
   "execution_count": null,
   "metadata": {
    "execution": {
     "iopub.execute_input": "2023-09-02T09:30:54.338333Z",
     "iopub.status.busy": "2023-09-02T09:30:54.337587Z",
     "iopub.status.idle": "2023-09-02T09:30:54.3601Z",
     "shell.execute_reply": "2023-09-02T09:30:54.357812Z",
     "shell.execute_reply.started": "2023-09-02T09:30:54.338286Z"
    }
   },
   "outputs": [],
   "source": [
    "# Prepare customers data dataset\n",
    "daily_total = pd.DataFrame(df.groupby('invoice_date')['total'].sum().reset_index())\n",
    "daily_total.head()"
   ]
  },
  {
   "cell_type": "code",
   "execution_count": null,
   "metadata": {
    "execution": {
     "iopub.execute_input": "2023-09-02T09:30:54.362861Z",
     "iopub.status.busy": "2023-09-02T09:30:54.362153Z",
     "iopub.status.idle": "2023-09-02T09:30:54.38732Z",
     "shell.execute_reply": "2023-09-02T09:30:54.385921Z",
     "shell.execute_reply.started": "2023-09-02T09:30:54.362811Z"
    }
   },
   "outputs": [],
   "source": [
    "# Merge datasets\n",
    "merged = pd.merge(daily_total, usd_try, left_on='invoice_date', right_on='date', how='inner')\n",
    "merged.head()"
   ]
  },
  {
   "cell_type": "code",
   "execution_count": null,
   "metadata": {
    "execution": {
     "iopub.execute_input": "2023-09-02T09:30:54.389747Z",
     "iopub.status.busy": "2023-09-02T09:30:54.389286Z",
     "iopub.status.idle": "2023-09-02T09:30:54.404606Z",
     "shell.execute_reply": "2023-09-02T09:30:54.403541Z",
     "shell.execute_reply.started": "2023-09-02T09:30:54.389698Z"
    }
   },
   "outputs": [],
   "source": [
    "merged.info()"
   ]
  },
  {
   "cell_type": "code",
   "execution_count": null,
   "metadata": {
    "execution": {
     "iopub.execute_input": "2023-09-02T09:30:54.406214Z",
     "iopub.status.busy": "2023-09-02T09:30:54.405817Z",
     "iopub.status.idle": "2023-09-02T09:30:54.437072Z",
     "shell.execute_reply": "2023-09-02T09:30:54.435298Z",
     "shell.execute_reply.started": "2023-09-02T09:30:54.406174Z"
    }
   },
   "outputs": [],
   "source": [
    "merged.describe()"
   ]
  },
  {
   "cell_type": "code",
   "execution_count": null,
   "metadata": {
    "execution": {
     "iopub.execute_input": "2023-09-02T09:30:54.440418Z",
     "iopub.status.busy": "2023-09-02T09:30:54.439324Z",
     "iopub.status.idle": "2023-09-02T09:30:55.588261Z",
     "shell.execute_reply": "2023-09-02T09:30:55.586687Z",
     "shell.execute_reply.started": "2023-09-02T09:30:54.440359Z"
    }
   },
   "outputs": [],
   "source": [
    "# Plot relationship between total revenue and currency rate\n",
    "sns.relplot(data=merged, x='date', y='total', hue='rate')\n",
    "plt.title('Total revenue and currency rate for daily sales')\n",
    "plt.tick_params('x', labelrotation=45)"
   ]
  },
  {
   "cell_type": "code",
   "execution_count": null,
   "metadata": {
    "execution": {
     "iopub.execute_input": "2023-09-02T09:30:55.590499Z",
     "iopub.status.busy": "2023-09-02T09:30:55.58998Z",
     "iopub.status.idle": "2023-09-02T09:30:55.604986Z",
     "shell.execute_reply": "2023-09-02T09:30:55.60336Z",
     "shell.execute_reply.started": "2023-09-02T09:30:55.590428Z"
    }
   },
   "outputs": [],
   "source": [
    "# Find correlation between total revenue and rate\n",
    "merged.corr()"
   ]
  },
  {
   "cell_type": "markdown",
   "metadata": {},
   "source": [
    "Surprisingly, total revenue is not correlated with the currency rate. Meaning, there is no point in building a predictive model based on that. "
   ]
  },
  {
   "cell_type": "markdown",
   "metadata": {},
   "source": [
    "### Thank you for reading!\n",
    "\n",
    "# Norbert\n",
    "# AESOPS"
   ]
  }
 ],
 "metadata": {
  "kernelspec": {
   "display_name": "Python 3 (ipykernel)",
   "language": "python",
   "name": "python3"
  },
  "language_info": {
   "codemirror_mode": {
    "name": "ipython",
    "version": 3
   },
   "file_extension": ".py",
   "mimetype": "text/x-python",
   "name": "python",
   "nbconvert_exporter": "python",
   "pygments_lexer": "ipython3",
   "version": "3.9.13"
  }
 },
 "nbformat": 4,
 "nbformat_minor": 4
}
